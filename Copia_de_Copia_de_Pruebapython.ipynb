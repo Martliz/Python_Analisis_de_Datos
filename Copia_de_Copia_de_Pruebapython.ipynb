{
  "nbformat": 4,
  "nbformat_minor": 0,
  "metadata": {
    "colab": {
      "name": "Copia de Copia de Pruebapython.ipynb",
      "provenance": [],
      "authorship_tag": "ABX9TyMux3U1uOvJ15dr+cGgWW6S",
      "include_colab_link": true
    },
    "kernelspec": {
      "name": "python3",
      "display_name": "Python 3"
    },
    "language_info": {
      "name": "python"
    }
  },
  "cells": [
    {
      "cell_type": "markdown",
      "metadata": {
        "id": "view-in-github",
        "colab_type": "text"
      },
      "source": [
        "<a href=\"https://colab.research.google.com/github/Martliz/Python_Analisis_de_Datos/blob/repositorio_git/Copia_de_Copia_de_Pruebapython.ipynb\" target=\"_parent\"><img src=\"https://colab.research.google.com/assets/colab-badge.svg\" alt=\"Open In Colab\"/></a>"
      ]
    },
    {
      "cell_type": "code",
      "execution_count": null,
      "metadata": {
        "colab": {
          "base_uri": "https://localhost:8080/"
        },
        "id": "bSJJV867MCAR",
        "outputId": "aa377606-0f89-463a-ffab-983b298c68b2"
      },
      "outputs": [
        {
          "output_type": "stream",
          "name": "stdout",
          "text": [
            "1\n"
          ]
        }
      ],
      "source": [
        "#1\n",
        "def a (b,c):\n",
        "    return b-c\n",
        "    return 5\n",
        "print(a(2,1))"
      ]
    },
    {
      "cell_type": "code",
      "source": [
        "variable_name = \"\" #@param {type:\"string\"}\n",
        "#2\n",
        "b = 100\n",
        "print(b)\n",
        "def a():\n",
        "  b = 200\n",
        "  print(b)\n",
        "print(b)\n",
        "a()\n",
        "print(b)"
      ],
      "metadata": {
        "colab": {
          "base_uri": "https://localhost:8080/"
        },
        "id": "yDavYqNQNl7R",
        "outputId": "53563095-f565-40f1-a32b-fc067a420cd0"
      },
      "execution_count": null,
      "outputs": [
        {
          "output_type": "stream",
          "name": "stdout",
          "text": [
            "100\n",
            "100\n",
            "200\n",
            "100\n"
          ]
        }
      ]
    },
    {
      "cell_type": "code",
      "source": [
        "#3\n",
        "b = 200\n",
        "print(b)\n",
        "def a() :\n",
        "  b = 100\n",
        "  print (b)\n",
        "  return b\n",
        "print (b)\n",
        "a()\n",
        "print (b)"
      ],
      "metadata": {
        "colab": {
          "base_uri": "https://localhost:8080/"
        },
        "id": "M0vBF4t8ONyl",
        "outputId": "01871a12-4a45-4410-e6e8-758ee5af6d5b"
      },
      "execution_count": null,
      "outputs": [
        {
          "output_type": "stream",
          "name": "stdout",
          "text": [
            "200\n",
            "200\n",
            "100\n",
            "200\n"
          ]
        }
      ]
    },
    {
      "cell_type": "code",
      "source": [
        "#4\n",
        "b = 200\n",
        "print(b)\n",
        "def a():\n",
        "    b = 200\n",
        "    print(b)\n",
        "    return b\n",
        "print(b)\n",
        "b=a()\n",
        "print(b)"
      ],
      "metadata": {
        "colab": {
          "base_uri": "https://localhost:8080/"
        },
        "id": "eVd5WJEZOpRM",
        "outputId": "95987866-14aa-4c02-b779-84793c2147dc"
      },
      "execution_count": null,
      "outputs": [
        {
          "output_type": "stream",
          "name": "stdout",
          "text": [
            "200\n",
            "200\n",
            "200\n",
            "200\n"
          ]
        }
      ]
    },
    {
      "cell_type": "code",
      "source": [
        "#5\n",
        "def a():\n",
        "    print(10)\n",
        "    b()\n",
        "    print(40)\n",
        "def b():\n",
        "    print(60)\n",
        "a()"
      ],
      "metadata": {
        "colab": {
          "base_uri": "https://localhost:8080/"
        },
        "id": "mJFYMhxfPXfl",
        "outputId": "4dbd87c7-694a-4db6-b559-99a4c988b8ad"
      },
      "execution_count": null,
      "outputs": [
        {
          "output_type": "stream",
          "name": "stdout",
          "text": [
            "10\n",
            "60\n",
            "40\n"
          ]
        }
      ]
    },
    {
      "cell_type": "code",
      "source": [
        "#6\n",
        "def a():\n",
        "  print(10)\n",
        "  x = b()\n",
        "  print(x)\n",
        "  return 100\n",
        "def b():\n",
        "  print(30)\n",
        "  return 50\n",
        "y = a()\n",
        "print (y)"
      ],
      "metadata": {
        "colab": {
          "base_uri": "https://localhost:8080/"
        },
        "id": "t_Cxn20PPwuT",
        "outputId": "223b389c-a2ad-4ff8-bca6-b97074e8ac05"
      },
      "execution_count": null,
      "outputs": [
        {
          "output_type": "stream",
          "name": "stdout",
          "text": [
            "10\n",
            "30\n",
            "50\n",
            "100\n"
          ]
        }
      ]
    },
    {
      "cell_type": "code",
      "source": [
        "#Items II\n",
        "#1-2 Impresión en forma regresiva:\n",
        "for i in range(10,0,-1):\n",
        "    print(i)\n",
        "\n"
      ],
      "metadata": {
        "colab": {
          "base_uri": "https://localhost:8080/"
        },
        "id": "OrDagQNrQQmj",
        "outputId": "d75c021a-cdab-4541-db12-50ae4c4c7e21"
      },
      "execution_count": null,
      "outputs": [
        {
          "output_type": "stream",
          "name": "stdout",
          "text": [
            "10\n",
            "9\n",
            "8\n",
            "7\n",
            "6\n",
            "5\n",
            "4\n",
            "3\n",
            "2\n",
            "1\n"
          ]
        }
      ]
    },
    {
      "cell_type": "code",
      "source": [
        "#2-2 Imprimir el primer número y retornar el último número:\n",
        "numero1 = input(\"Escribe el primer número: \")\n",
        "numero2 = input(\"Escribe el segundo número: \")\n",
        "print(\"EL primero valor ingredado fue: \",format(numero1))\n",
        "def numero2():\n",
        "    return numero2\n"
      ],
      "metadata": {
        "colab": {
          "base_uri": "https://localhost:8080/"
        },
        "id": "6tjy8srHcEMP",
        "outputId": "0a08c4c5-bd80-4f40-d5d4-6103afb5cd38"
      },
      "execution_count": null,
      "outputs": [
        {
          "output_type": "stream",
          "name": "stdout",
          "text": [
            "Escribe el primer número: 555\n",
            "Escribe el segundo número: 2111\n",
            "EL primero valor ingredado fue:  555\n"
          ]
        }
      ]
    },
    {
      "cell_type": "code",
      "source": [
        "#3-2 Sumatoria\n",
        "numeros = (1,2,3,4,5)\n",
        "s = sum(numeros)\n",
        "print(s)\n"
      ],
      "metadata": {
        "colab": {
          "base_uri": "https://localhost:8080/"
        },
        "id": "jy9elMB6URiT",
        "outputId": "b2ad1f01-5e9e-4d0e-d59f-efcc2875b06e"
      },
      "execution_count": null,
      "outputs": [
        {
          "output_type": "stream",
          "name": "stdout",
          "text": [
            "15\n"
          ]
        }
      ]
    },
    {
      "cell_type": "code",
      "source": [
        "#4-2 Valores mayores que el segundo\n",
        "numeros = (15,18,1,9,12,7,0,6)\n",
        "print(max(numeros))\n",
        "print(min(numeros))\n",
        "promedio = sum(numeros)/len(numeros)\n",
        "print(promedio)"
      ],
      "metadata": {
        "colab": {
          "base_uri": "https://localhost:8080/"
        },
        "id": "6QG5j02cVqmJ",
        "outputId": "08e5797e-8934-4210-b57e-e19eda736410"
      },
      "execution_count": null,
      "outputs": [
        {
          "output_type": "stream",
          "name": "stdout",
          "text": [
            "18\n",
            "0\n",
            "8.5\n"
          ]
        }
      ]
    }
  ]
}